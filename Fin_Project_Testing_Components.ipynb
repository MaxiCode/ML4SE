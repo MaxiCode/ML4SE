{
 "cells": [
  {
   "cell_type": "code",
   "execution_count": 36,
   "metadata": {},
   "outputs": [],
   "source": [
    "# Code snipped to read files form relative folder \n",
    "from os import listdir\n",
    "from os.path import isfile, join\n",
    "\n",
    "path_project_public_1 = './project_public_1/'\n",
    "path_project_public_2 = './project_public_2/'\n",
    "\n",
    "files_project_public_1 = [join(path_project_public_1, f) for f in listdir(path_project_public_1) if isfile(join(path_project_public_1, f))]\n",
    "files_project_public_2 = [join(path_project_public_1, f) for f in listdir(path_project_public_2) if isfile(join(path_project_public_2, f))]\n",
    "\n",
    "#print files_project_public_1\n",
    "#print files_project_public_2"
   ]
  },
  {
   "cell_type": "code",
   "execution_count": 35,
   "metadata": {},
   "outputs": [],
   "source": [
    "# Go on parsing file content\n",
    "bdbc_identifier = 'bdbc'\n",
    "h264_identifier = 'h264'\n",
    "\n",
    "h264_elements = []\n",
    "\n",
    "for element in files_project_public_1:\n",
    "    with open(element, 'r') as myfile:\n",
    "        h264_elements.append(myfile.read())\n",
    "\n",
    "#print h264_elements"
   ]
  }
 ],
 "metadata": {
  "kernelspec": {
   "display_name": "Python 2",
   "language": "python",
   "name": "python2"
  },
  "language_info": {
   "codemirror_mode": {
    "name": "ipython",
    "version": 2
   },
   "file_extension": ".py",
   "mimetype": "text/x-python",
   "name": "python",
   "nbconvert_exporter": "python",
   "pygments_lexer": "ipython2",
   "version": "2.7.12"
  }
 },
 "nbformat": 4,
 "nbformat_minor": 2
}
