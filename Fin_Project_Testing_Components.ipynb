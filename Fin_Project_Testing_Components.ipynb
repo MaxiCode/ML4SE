{
 "cells": [
  {
   "cell_type": "code",
   "execution_count": 32,
   "metadata": {},
   "outputs": [
    {
     "name": "stdout",
     "output_type": "stream",
     "text": [
      "['./project_public_1/bdbc_model.xml', './project_public_1/h264_interactions.txt', './project_public_1/bdbc_feature.txt', './project_public_1/h264.xml', './project_public_1/bdbc_interactions.txt', './project_public_1/h264_feature.txt']\n",
      "['./project_public_1/busybox-1.18.0.dimacs', './project_public_1/toybox.dimacs', './project_public_1/toybox_interactions2.txt', './project_public_1/busybox-1.198.0_interactions.txt', './project_public_1/toybox_feature2.txt', './project_public_1/toybox_interactions3.txt', './project_public_1/busybox-1.198.0_feature.txt', './project_public_1/toybox_feature3.txt', './project_public_1/toybox_feature1.txt', './project_public_1/toybox_interactions1.txt']\n"
     ]
    }
   ],
   "source": [
    "# Code snipped to read files form relative folder \n",
    "from os import listdir\n",
    "from os.path import isfile, join\n",
    "\n",
    "path_project_public_1 = './project_public_1/'\n",
    "path_project_public_2 = './project_public_2/'\n",
    "\n",
    "files_project_public_1 = [join(path_project_public_1, f) for f in listdir(path_project_public_1) if isfile(join(path_project_public_1, f))]\n",
    "files_project_public_2 = [join(path_project_public_1, f) for f in listdir(path_project_public_2) if isfile(join(path_project_public_2, f))]\n",
    "\n",
    "print files_project_public_1\n",
    "print files_project_public_2"
   ]
  },
  {
   "cell_type": "code",
   "execution_count": 33,
   "metadata": {},
   "outputs": [
    {
     "name": "stdout",
     "output_type": "stream",
     "text": [
      "root: 214.995595497134\r\n",
      "no_asm: 22.776858227135\r\n",
      "no_8x8dct: -5.85054793162863\r\n",
      "no_cabac: 186.69479181412\r\n",
      "no_deblock: 295.385005317693\r\n",
      "no_fast_pskip: 128.016879631097\r\n",
      "no_mbtree: 173.732120050835\r\n",
      "no_mixed_refs: 134.243290928988\r\n",
      "no_weightb: 0.0976226046894331\r\n",
      "rc_lookahead: 160.435359314314\r\n",
      "rc_lookahead_20: 327.683504475704\r\n",
      "rc_lookahead_40: 9.80728936442547\r\n",
      "rc_lookahead_60: 261.003817363528\r\n",
      "ref: 15.1794800732361\r\n",
      "ref_1: 147.755457329334\r\n",
      "ref_5: 213.773735102761\r\n",
      "ref_9: 25.174317050489\r\n",
      "\n"
     ]
    }
   ],
   "source": [
    "# Go on parsing file content\n",
    "bdbc_identifier = 'bdbc'\n",
    "h264_identifier = 'h264'\n",
    "\n",
    "h264_elements = []\n",
    "\n",
    "for element in files_project_public_1:\n",
    "    with open(element, 'r') as myfile:\n",
    "        h264_elements.append(myfile.read())\n",
    "\n",
    "print h264_elements"
   ]
  }
 ],
 "metadata": {
  "kernelspec": {
   "display_name": "Python 2",
   "language": "python",
   "name": "python2"
  },
  "language_info": {
   "codemirror_mode": {
    "name": "ipython",
    "version": 2
   },
   "file_extension": ".py",
   "mimetype": "text/x-python",
   "name": "python",
   "nbconvert_exporter": "python",
   "pygments_lexer": "ipython2",
   "version": "2.7.12"
  }
 },
 "nbformat": 4,
 "nbformat_minor": 2
}
