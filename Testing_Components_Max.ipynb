{
 "cells": [
  {
   "cell_type": "code",
   "execution_count": 1,
   "metadata": {},
   "outputs": [],
   "source": [
    "# Code snipped to read files form relative folder \n",
    "from os import listdir\n",
    "from os.path import isfile, join\n",
    "\n",
    "path_project_public_1 = './project_public_1/'\n",
    "path_project_public_2 = './project_public_2/'\n",
    "\n",
    "files_project_public_1 = [join(path_project_public_1, f) for f in listdir(path_project_public_1) if isfile(join(path_project_public_1, f))]\n",
    "files_project_public_2 = [join(path_project_public_1, f) for f in listdir(path_project_public_2) if isfile(join(path_project_public_2, f))]\n",
    "\n",
    "#print(files_project_public_1)\n",
    "#print(files_project_public_2)"
   ]
  },
  {
   "cell_type": "code",
   "execution_count": 56,
   "metadata": {},
   "outputs": [
    {
     "name": "stdout",
     "output_type": "stream",
     "text": [
      "{'no_mixed_refs': 134.243290928988, 'ref_5': 213.773735102761, 'ref': 15.1794800732361, 'no_cabac': 186.69479181412, 'no_8x8dct': -5.85054793162863, 'rc_lookahead_20': 327.683504475704, 'no_asm': 22.776858227135, 'ref_1': 147.755457329334, 'ref_9': 25.174317050489, 'no_deblock': 295.385005317693, 'root': 214.995595497134, 'rc_lookahead_60': 261.003817363528, 'no_fast_pskip': 128.016879631097, 'rc_lookahead': 160.435359314314, 'no_mbtree': 173.732120050835, 'no_weightb': 0.0976226046894331, 'rc_lookahead_40': 9.80728936442547}\n",
      "214.995595497134\n",
      "\n"
     ]
    }
   ],
   "source": [
    "# Go on parsing file content\n",
    "bdbc_identifier = 'bdbc'\n",
    "h264_identifier = 'h264'\n",
    "\n",
    "feature_id = 'feature'\n",
    "\n",
    "# Read in example  - DONE!\n",
    "for element in files_project_public_1:\n",
    "    if element.find(h264_identifier) > 0 and element.find(feature_id) > 0:\n",
    "        with open(element, 'r') as f:\n",
    "            h264_elements = f.readlines()\n",
    "            # you may also want to remove whitespace characters like `\\n` at the end of each line\n",
    "            h264_elements = [x.strip() for x in h264_elements]\n",
    "#print(h264_elements)\n",
    "            \n",
    "    \n",
    "# Dictionary: h264_features - DONE!\n",
    "for line in h264_elements:\n",
    "    cut = line.find(':')\n",
    "    h264_features[line[:cut]] = float(line[cut+2:])    \n",
    "#print(h264_features)\n",
    "\n",
    "\n",
    "# Access value of specific elements - DONE!\n",
    "print(h264_features['root'])\n",
    "print(h264_features['no_deblock'])\n",
    "\n",
    "print('')"
   ]
  },
  {
   "cell_type": "code",
   "execution_count": null,
   "metadata": {
    "collapsed": true
   },
   "outputs": [],
   "source": []
  }
 ],
 "metadata": {
  "kernelspec": {
   "display_name": "Python 3",
   "language": "python",
   "name": "python3"
  },
  "language_info": {
   "codemirror_mode": {
    "name": "ipython",
    "version": 3
   },
   "file_extension": ".py",
   "mimetype": "text/x-python",
   "name": "python",
   "nbconvert_exporter": "python",
   "pygments_lexer": "ipython3",
   "version": "3.5.2"
  }
 },
 "nbformat": 4,
 "nbformat_minor": 2
}
